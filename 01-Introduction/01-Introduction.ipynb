{
  "nbformat": 4,
  "nbformat_minor": 0,
  "metadata": {
    "kernelspec": {
      "display_name": "Python 3",
      "language": "python",
      "name": "python3"
    },
    "language_info": {
      "codemirror_mode": {
        "name": "ipython",
        "version": 3
      },
      "file_extension": ".py",
      "mimetype": "text/x-python",
      "name": "python",
      "nbconvert_exporter": "python",
      "pygments_lexer": "ipython3",
      "version": "3.7.2"
    },
    "colab": {
      "name": "01-Introduction.ipynb",
      "provenance": [],
      "collapsed_sections": []
    }
  },
  "cells": [
    {
      "cell_type": "markdown",
      "metadata": {
        "id": "ee6-Pykplekf"
      },
      "source": [
        "# Introduction"
      ]
    },
    {
      "cell_type": "code",
      "metadata": {
        "id": "SN6atDprliuT",
        "colab": {
          "base_uri": "https://localhost:8080/",
          "height": 39
        },
        "outputId": "2bb4211d-6355-4fc2-f45e-80c0a7259da5"
      },
      "source": [
        "%%html\n",
        "<marquee style='width: 30%; color: blue;'><b>Welcome to IS833!</b></marquee>"
      ],
      "execution_count": null,
      "outputs": [
        {
          "output_type": "display_data",
          "data": {
            "text/html": [
              "<marquee style='width: 30%; color: blue;'><b>Welcome to IS833!</b></marquee>"
            ],
            "text/plain": [
              "<IPython.core.display.HTML object>"
            ]
          },
          "metadata": {
            "tags": []
          }
        }
      ]
    },
    {
      "cell_type": "markdown",
      "metadata": {
        "id": "TTDKIV2hlekh"
      },
      "source": [
        "Conceived in the late 1980s as a teaching and scripting language, Python has since become an essential tool for many programmers, engineers, researchers, and data scientists across academia and industry.\n",
        "\n",
        "The appeal of Python is in its simplicity and beauty, as well as the convenience of the large ecosystem of domain-specific tools that have been built on top of it.\n",
        "For example, most of the Python code in scientific computing and data science is built around a group of mature and useful packages:\n",
        "\n",
        "- [NumPy](http://numpy.org) provides efficient storage and computation for multi-dimensional data arrays.\n",
        "- [SciPy](http://scipy.org) contains a wide array of numerical tools such as numerical integration and interpolation.\n",
        "- [Pandas](http://pandas.pydata.org) provides a DataFrame object along with a powerful set of methods to manipulate, filter, group, and transform data.\n",
        "- [Matplotlib](http://matplotlib.org) provides a useful interface for creation of publication-quality plots and figures.\n",
        "- [Scikit-Learn](http://scikit-learn.org) provides a uniform toolkit for applying common machine learning algorithms to data.\n",
        "- [IPython/Jupyter](http://jupyter.org) provides an enhanced terminal and an interactive notebook environment that is useful for exploratory analysis, as well as creation of interactive, executable documents.\n",
        "\n",
        "No less important are the numerous other tools and packages which accompany these: if there is a scientific or data analysis task you want to perform, chances are someone has written a package that will do it for you.\n",
        "\n",
        "To tap into the power of this data science ecosystem, however, first requires familiarity with the Python language itself."
      ]
    },
    {
      "cell_type": "markdown",
      "metadata": {
        "id": "2_HiHyOLleki"
      },
      "source": [
        "## Installation and Practical Considerations\n",
        "\n",
        "Installing Python and the suite of libraries that enable scientific computing is straightforward whether you use Windows, Linux, or Mac OS X. This section will outline some of the considerations when setting up your computer."
      ]
    },
    {
      "cell_type": "markdown",
      "metadata": {
        "id": "-fqZSMkVlekj"
      },
      "source": [
        "### Python 2 vs Python 3\n",
        "\n",
        "This course uses the syntax of Python 3, which contains language enhancements that are not compatible with the *2.x* series of Python. Though Python 3.0 was first released in 2008, adoption has been relatively slow, particularly in the scientific and web development communities. This is primarily because it took some time for many of the essential packages and toolkits to be made compatible with the new language internals.\n",
        "\n",
        "It was recently announced that Python 2.7 will not be maintained past January 1, 2020."
      ]
    },
    {
      "cell_type": "code",
      "metadata": {
        "colab": {
          "base_uri": "https://localhost:8080/",
          "height": 35
        },
        "id": "uMt3hooFfrns",
        "outputId": "831c49ae-2333-4951-98ab-fc418b357a69"
      },
      "source": [
        "import sys\n",
        "sys.version"
      ],
      "execution_count": null,
      "outputs": [
        {
          "output_type": "execute_result",
          "data": {
            "application/vnd.google.colaboratory.intrinsic+json": {
              "type": "string"
            },
            "text/plain": [
              "'3.7.10 (default, Feb 20 2021, 21:17:23) \\n[GCC 7.5.0]'"
            ]
          },
          "metadata": {
            "tags": []
          },
          "execution_count": 4
        }
      ]
    },
    {
      "cell_type": "markdown",
      "metadata": {
        "id": "0gsaO_celekk"
      },
      "source": [
        "### Installation with conda\n",
        "\n",
        "Though there are various ways to install Python, the one I would suggest – particularly if you wish to eventually use the data science tools mentioned above – is via the cross-platform Anaconda distribution.\n",
        "There are two flavors of the Anaconda distribution:\n",
        "\n",
        "- [Miniconda](http://conda.pydata.org/miniconda.html) gives you Python interpreter itself, along with a command-line tool called ``conda`` which operates as a cross-platform package manager geared toward Python packages, similar in spirit to the ``apt`` or ``yum`` tools that Linux users might be familiar with.\n",
        "- [Anaconda](https://www.continuum.io/downloads) includes both Python and ``conda``, and additionally bundles a suite of other pre-installed packages geared toward scientific computing.\n",
        "\n",
        "Any of the packages included with Anaconda can also be installed manually on top of Miniconda; for this reason I suggest starting with Miniconda.\n",
        "\n",
        "To get started, download and install the Miniconda package – make sure to choose a version with Python 3 – and then install the IPython notebook package:\n",
        "```\n",
        "[~]$ conda install jupyter\n",
        "```\n",
        "For more information on ``conda``, including information about creating and using conda environments, refer to the Miniconda package documentation linked at the above page."
      ]
    },
    {
      "cell_type": "markdown",
      "metadata": {
        "id": "0rp-UjbOlekl"
      },
      "source": [
        "## The Zen of Python\n",
        "\n",
        "Python aficionados are often quick to point out how \"intuitive\", \"beautiful\", or \"fun\" Python is.\n",
        "While I tend to agree, I also recognize that beauty, intuition, and fun often go hand in hand with familiarity, and so for those familiar with other languages such florid sentiments can come across as a bit smug.\n",
        "Nevertheless, I hope that if you give Python a chance, you'll see where such impressions might come from.\n",
        "And if you *really* want to dig into the programming philosophy that drives much of the coding practice of Python power-users, a nice little Easter egg exists in the Python interpreter: simply close your eyes, meditate for a few minutes, and ``import this``:"
      ]
    },
    {
      "cell_type": "code",
      "metadata": {
        "id": "R7ckZLOAlekm",
        "outputId": "da38571c-58e6-4088-8015-ebca47dfa974"
      },
      "source": [
        "import this"
      ],
      "execution_count": null,
      "outputs": [
        {
          "output_type": "stream",
          "text": [
            "The Zen of Python, by Tim Peters\n",
            "\n",
            "Beautiful is better than ugly.\n",
            "Explicit is better than implicit.\n",
            "Simple is better than complex.\n",
            "Complex is better than complicated.\n",
            "Flat is better than nested.\n",
            "Sparse is better than dense.\n",
            "Readability counts.\n",
            "Special cases aren't special enough to break the rules.\n",
            "Although practicality beats purity.\n",
            "Errors should never pass silently.\n",
            "Unless explicitly silenced.\n",
            "In the face of ambiguity, refuse the temptation to guess.\n",
            "There should be one-- and preferably only one --obvious way to do it.\n",
            "Although that way may not be obvious at first unless you're Dutch.\n",
            "Now is better than never.\n",
            "Although never is often better than *right* now.\n",
            "If the implementation is hard to explain, it's a bad idea.\n",
            "If the implementation is easy to explain, it may be a good idea.\n",
            "Namespaces are one honking great idea -- let's do more of those!\n"
          ],
          "name": "stdout"
        }
      ]
    },
    {
      "cell_type": "markdown",
      "metadata": {
        "id": "KzSa4sO2lekq"
      },
      "source": [
        "# How to Run Python Code"
      ]
    },
    {
      "cell_type": "markdown",
      "metadata": {
        "id": "CbU8pUB9lekr"
      },
      "source": [
        "Python is a flexible language, and there are several ways to use it depending on your particular task.\n",
        "One thing that distinguishes Python from other programming languages is that it is *interpreted* rather than *compiled*.\n",
        "This means that it is executed line by line, which allows programming to be interactive in a way that is not directly possible with compiled languages like Fortran, C, or Java. This section will describe four primary ways you can run Python code: the *Python interpreter*, the *IPython interpreter*, via *Self-contained Scripts*, or in the *Jupyter notebook*."
      ]
    },
    {
      "cell_type": "markdown",
      "metadata": {
        "id": "dEGnZIdsleks"
      },
      "source": [
        "### The Python Interpreter\n",
        "\n",
        "The most basic way to execute Python code is line by line within the *Python interpreter*.\n",
        "The Python interpreter can be started by installing the Python language (see the previous section) and typing ``python`` at the command prompt (look for the Terminal on Mac OS X and Unix/Linux systems, or the Command Prompt application in Windows):\n",
        "```\n",
        "$ python\n",
        "Python 3.7.2 (default, Dec 29 2018, 00:00:04) \n",
        "[Clang 4.0.1 (tags/RELEASE_401/final)] :: Anaconda, Inc. on darwin\n",
        "Type \"help\", \"copyright\", \"credits\" or \"license\" for more information.\n",
        ">>>\n",
        "```\n",
        "With the interpreter running, you can begin to type and execute code snippets.\n",
        "Here we'll use the interpreter as a simple calculator, performing calculations and assigning values to variables:\n",
        "``` python\n",
        ">>> 1 + 1\n",
        "2\n",
        ">>> x = 5\n",
        ">>> x * 3\n",
        "15\n",
        "```\n",
        "\n",
        "The interpreter makes it very convenient to try out small snippets of Python code and to experiment with short sequences of operations."
      ]
    },
    {
      "cell_type": "markdown",
      "metadata": {
        "id": "npKFwqVwleks"
      },
      "source": [
        "### The IPython interpreter\n",
        "\n",
        "If you spend much time with the basic Python interpreter, you'll find that it lacks many of the features of a full-fledged interactive development environment.\n",
        "An alternative interpreter called *IPython* (for Interactive Python) is bundled with the Anaconda distribution, and includes a host of convenient enhancements to the basic Python interpreter.\n",
        "It can be started by typing ``ipython`` at the command prompt:\n",
        "```\n",
        "$ ipython\n",
        "Python 3.7.2 (default, Dec 29 2018, 00:00:04) \n",
        "Type 'copyright', 'credits' or 'license' for more information\n",
        "IPython 7.2.0 -- An enhanced Interactive Python. Type '?' for help.\n",
        "\n",
        "In [1]: \n",
        "```\n",
        "The main aesthetic difference between the Python interpreter and the enhanced IPython interpreter lies in the command prompt: Python uses ``>>>`` by default, while IPython uses numbered commands (e.g. ``In [1]:``).\n",
        "Regardless, we can execute code line by line just as we did before:\n",
        "``` ipython\n",
        "In [1]: 1 + 1\n",
        "Out[1]: 2\n",
        "\n",
        "In [2]: x = 5\n",
        "\n",
        "In [3]: x * 3\n",
        "Out[3]: 15\n",
        "```\n",
        "Note that just as the input is numbered, the output of each command is numbered as well."
      ]
    },
    {
      "cell_type": "markdown",
      "metadata": {
        "id": "SM9bv8_7lekt"
      },
      "source": [
        "### Self-contained Python scripts\n",
        "\n",
        "Running Python snippets line by line is useful in some cases, but for more complicated programs it is more convenient to save code to file, and execute it all at once.\n",
        "By convention, Python scripts are saved in files with a *.py* extension.\n",
        "For example, let's create a script called *test.py* which contains the following:\n",
        "``` python\n",
        "# file: test.py\n",
        "print(\"Running test.py\")\n",
        "x = 5\n",
        "print(\"Result is\", 3 * x)\n",
        "```\n",
        "To run this file, we make sure it is in the current directory and type ``python`` *``filename``* at the command prompt:\n",
        "```\n",
        "$ python test.py\n",
        "Running test.py\n",
        "Result is 15\n",
        "```\n",
        "For more complicated programs, creating self-contained scripts like this one is a must."
      ]
    },
    {
      "cell_type": "markdown",
      "metadata": {
        "id": "7Bjoo-Rfleku"
      },
      "source": [
        "### The Jupyter notebook\n",
        "\n",
        "A useful hybrid of the interactive terminal and the self-contained script is the *Jupyter notebook*, a document format that allows executable code, formatted text, graphics, and even interactive features to be combined into a single document.\n",
        "Though the notebook began as a Python-only format, it has since been made compatible with a large number of programming languages, and is now an essential part of the [*Jupyter Project*](https://jupyter.org/).\n",
        "The notebook is useful both as a development environment, and as a means of sharing work via rich computational and data-driven narratives that mix together code, figures, data, and text."
      ]
    },
    {
      "cell_type": "markdown",
      "metadata": {
        "id": "m3UFDmu0leku"
      },
      "source": [
        "### Launching the Jupyter Notebook\n",
        "\n",
        "The Jupyter notebook is a browser-based graphical interface to the IPython shell, and builds on it a rich set of dynamic display capabilities.\n",
        "As well as executing Python/IPython statements, the notebook allows the user to include formatted text, static and dynamic visualizations, mathematical equations, JavaScript widgets, and much more.\n",
        "Furthermore, these documents can be saved in a way that lets other people open them and execute the code on their own systems.\n",
        "\n",
        "Though the IPython notebook is viewed and edited through your web browser window, it must connect to a running Python process in order to execute code.\n",
        "This process (known as a \"kernel\") can be started by running the following command in your system shell:\n",
        "\n",
        "```\n",
        "$ jupyter notebook\n",
        "```\n",
        "\n",
        "This command will launch a local web server that will be visible to your browser.\n",
        "It immediately spits out a log showing what it is doing; that log will look something like this:\n",
        "\n",
        "```\n",
        "$ jupyter notebook\n",
        "[NotebookApp] Serving notebooks from local directory: /Users/jakevdp/PythonDataScienceHandbook\n",
        "[NotebookApp] 0 active kernels \n",
        "[NotebookApp] The IPython Notebook is running at: http://localhost:8888/\n",
        "[NotebookApp] Use Control-C to stop this server and shut down all kernels (twice to skip confirmation).\n",
        "```\n",
        "\n",
        "Upon issuing the command, your default browser should automatically open and navigate to the listed local URL;\n",
        "the exact address will depend on your system.\n",
        "If the browser does not open automatically, you can open a window and manually open this address (*http://localhost:8888/* in this example).\n",
        "\n",
        "If you have jupyter lab installed you can launch it by running the following command:\n",
        "\n",
        "```\n",
        "$ jupyter lab\n",
        "```\n",
        "\n",
        "Jupyter lab is very similar to jupyter notebook with more flexibility and extra functionality. You can install jupyter lab by using conda installer:\n",
        "\n",
        "```\n",
        "$ conda install -c conda-forge jupyterlab\n",
        "```"
      ]
    },
    {
      "cell_type": "markdown",
      "metadata": {
        "id": "uVjBWPp2lekv"
      },
      "source": [
        "## Google Colaboratory\n",
        "\n",
        "An easy way to get started with Python is to use Google's Jupyter system, Colaboratory. Colaboratory or Colab comes with Google Drive and is a similar application to Google Docs but for coding in Python. As of writing this notebook in early 2019, Colab notebooks are hosted on powerful hardware on the cloud and free of charge. You can start a new Colab notebook from your Google Drive by selecting a new document and choose to open it with Colaboratory.\n",
        "\n",
        "You can also copy the notebooks from this repository directly to your Google Drive and execute them there.  "
      ]
    },
    {
      "cell_type": "markdown",
      "metadata": {
        "id": "u9QyA4s4lekw"
      },
      "source": [
        "# Help and Documentation in IPython"
      ]
    },
    {
      "cell_type": "markdown",
      "metadata": {
        "id": "ndN2uTT9lekx"
      },
      "source": [
        "When a technologically-minded person is asked to help a friend, family member, or colleague with a computer problem, most of the time it's less a matter of knowing the answer as much as knowing how to quickly find an unknown answer.\n",
        "In data science it's the same: searchable web resources such as online documentation, mailing-list threads, and StackOverflow answers contain a wealth of information, even (especially?) if it is a topic you've found yourself searching before.\n",
        "Being an effective practitioner of data science is less about memorizing the tool or command you should use for every possible situation, and more about learning to effectively find the information you don't know, whether through a web search engine or another means.\n",
        "\n",
        "One of the most useful functions of IPython/Jupyter is to shorten the gap between the user and the type of documentation and search that will help them do their work effectively.\n",
        "While web searches still play a role in answering complicated questions, an amazing amount of information can be found through IPython alone.\n",
        "Some examples of the questions IPython can help answer in a few keystrokes:\n",
        "\n",
        "- How do I call this function? What arguments and options does it have?\n",
        "- What does the source code of this Python object look like?\n",
        "- What is in this package I imported? What attributes or methods does this object have?\n",
        "\n",
        "Here we'll discuss IPython's tools to quickly access this information, namely the ``?`` character to explore documentation, the ``??`` characters to explore source code, and the Tab key for auto-completion."
      ]
    },
    {
      "cell_type": "markdown",
      "metadata": {
        "id": "WWVJq9ILlekx"
      },
      "source": [
        "## Accessing Documentation with ``?``\n",
        "\n",
        "The Python language and its data science ecosystem is built with the user in mind, and one big part of that is access to documentation.\n",
        "Every Python object contains the reference to a string, known as a *doc string*, which in most cases will contain a concise summary of the object and how to use it.\n",
        "Python has a built-in ``help()`` function that can access this information and prints the results.\n",
        "For example, to see the documentation of the built-in ``len`` function, you can do the following:"
      ]
    },
    {
      "cell_type": "code",
      "metadata": {
        "id": "4yHh6jW6leky",
        "outputId": "57240dbf-c90c-4062-9b5f-09123b7c76eb"
      },
      "source": [
        "help(len)"
      ],
      "execution_count": null,
      "outputs": [
        {
          "output_type": "stream",
          "text": [
            "Help on built-in function len in module builtins:\n",
            "\n",
            "len(obj, /)\n",
            "    Return the number of items in a container.\n",
            "\n"
          ],
          "name": "stdout"
        }
      ]
    },
    {
      "cell_type": "markdown",
      "metadata": {
        "id": "wrRcUdydlek2"
      },
      "source": [
        "Depending on your interpreter, this information may be displayed as inline text, or in some separate pop-up window."
      ]
    },
    {
      "cell_type": "markdown",
      "metadata": {
        "id": "VhaCz0DZlek2"
      },
      "source": [
        "Because finding help on an object is so common and useful, IPython introduces the ``?`` character as a shorthand for accessing this documentation and other relevant information:"
      ]
    },
    {
      "cell_type": "code",
      "metadata": {
        "id": "f8gfiKghlek3",
        "outputId": "11938bfd-5335-43f9-ca74-04919b34be04"
      },
      "source": [
        "len?"
      ],
      "execution_count": null,
      "outputs": [
        {
          "output_type": "display_data",
          "data": {
            "text/plain": [
              "\u001b[0;31mSignature:\u001b[0m \u001b[0mlen\u001b[0m\u001b[0;34m(\u001b[0m\u001b[0mobj\u001b[0m\u001b[0;34m,\u001b[0m \u001b[0;34m/\u001b[0m\u001b[0;34m)\u001b[0m\u001b[0;34m\u001b[0m\u001b[0;34m\u001b[0m\u001b[0m\n",
              "\u001b[0;31mDocstring:\u001b[0m Return the number of items in a container.\n",
              "\u001b[0;31mType:\u001b[0m      builtin_function_or_method\n"
            ]
          },
          "metadata": {
            "tags": []
          }
        }
      ]
    },
    {
      "cell_type": "markdown",
      "metadata": {
        "id": "6W-UQ23vlek5"
      },
      "source": [
        "This notation works for just about anything, including object methods:"
      ]
    },
    {
      "cell_type": "code",
      "metadata": {
        "id": "GfEChGT6lek6",
        "outputId": "a64de9ef-c11d-48a8-b391-9915f11f3ff4"
      },
      "source": [
        "L = [1, 2, 3]\n",
        "L"
      ],
      "execution_count": null,
      "outputs": [
        {
          "output_type": "execute_result",
          "data": {
            "text/plain": [
              "[1, 2, 3]"
            ]
          },
          "metadata": {
            "tags": []
          },
          "execution_count": 1
        }
      ]
    },
    {
      "cell_type": "code",
      "metadata": {
        "id": "-1_1vfbZlek9",
        "outputId": "736db516-1514-44c8-b037-c196e25d047b"
      },
      "source": [
        "L.insert?"
      ],
      "execution_count": null,
      "outputs": [
        {
          "output_type": "display_data",
          "data": {
            "text/plain": [
              "\u001b[0;31mSignature:\u001b[0m \u001b[0mL\u001b[0m\u001b[0;34m.\u001b[0m\u001b[0minsert\u001b[0m\u001b[0;34m(\u001b[0m\u001b[0mindex\u001b[0m\u001b[0;34m,\u001b[0m \u001b[0mobject\u001b[0m\u001b[0;34m,\u001b[0m \u001b[0;34m/\u001b[0m\u001b[0;34m)\u001b[0m\u001b[0;34m\u001b[0m\u001b[0;34m\u001b[0m\u001b[0m\n",
              "\u001b[0;31mDocstring:\u001b[0m Insert object before index.\n",
              "\u001b[0;31mType:\u001b[0m      builtin_function_or_method\n"
            ]
          },
          "metadata": {
            "tags": []
          }
        }
      ]
    },
    {
      "cell_type": "markdown",
      "metadata": {
        "id": "TJdzaKpqlelB"
      },
      "source": [
        "or even objects themselves, with the documentation from their type:"
      ]
    },
    {
      "cell_type": "code",
      "metadata": {
        "id": "6lySItNmlelC",
        "outputId": "965c08d5-2cf1-4453-fe99-5a1b311cf9aa"
      },
      "source": [
        "L?"
      ],
      "execution_count": null,
      "outputs": [
        {
          "output_type": "display_data",
          "data": {
            "text/plain": [
              "\u001b[0;31mType:\u001b[0m        list\n",
              "\u001b[0;31mString form:\u001b[0m [1, 2, 3]\n",
              "\u001b[0;31mLength:\u001b[0m      3\n",
              "\u001b[0;31mDocstring:\u001b[0m  \n",
              "Built-in mutable sequence.\n",
              "\n",
              "If no argument is given, the constructor creates a new empty list.\n",
              "The argument must be an iterable if specified.\n"
            ]
          },
          "metadata": {
            "tags": []
          }
        }
      ]
    },
    {
      "cell_type": "markdown",
      "metadata": {
        "id": "m-TWwFFUlelE"
      },
      "source": [
        "Importantly, this will even work for functions or other objects you create yourself!\n",
        "Here we'll define a small function with a docstring:"
      ]
    },
    {
      "cell_type": "code",
      "metadata": {
        "id": "lBCuOSnklelF"
      },
      "source": [
        "def square(a):\n",
        "    \"\"\"Return the square of a.\"\"\"\n",
        "    return a ** 2"
      ],
      "execution_count": null,
      "outputs": []
    },
    {
      "cell_type": "markdown",
      "metadata": {
        "id": "nEkurwY9lelH"
      },
      "source": [
        "Note that to create a docstring for our function, we simply placed a string literal in the first line.\n",
        "Because doc strings are usually multiple lines, by convention we used Python's triple-quote notation for multi-line strings."
      ]
    },
    {
      "cell_type": "markdown",
      "metadata": {
        "id": "thJeuuNSlelI"
      },
      "source": [
        "Now we'll use the ``?`` mark to find this doc string:"
      ]
    },
    {
      "cell_type": "code",
      "metadata": {
        "id": "Bzkr8eyFlelI",
        "outputId": "1c357506-5e10-44f9-95a1-0ccfd6cdea92"
      },
      "source": [
        "square?"
      ],
      "execution_count": null,
      "outputs": [
        {
          "output_type": "display_data",
          "data": {
            "text/plain": [
              "\u001b[0;31mSignature:\u001b[0m \u001b[0msquare\u001b[0m\u001b[0;34m(\u001b[0m\u001b[0ma\u001b[0m\u001b[0;34m)\u001b[0m\u001b[0;34m\u001b[0m\u001b[0;34m\u001b[0m\u001b[0m\n",
              "\u001b[0;31mDocstring:\u001b[0m Return the square of a.\n",
              "\u001b[0;31mFile:\u001b[0m      ~/Drive/projects/Business-Analytics/01-Python-Overview/<ipython-input-7-c96e82bfafc5>\n",
              "\u001b[0;31mType:\u001b[0m      function\n"
            ]
          },
          "metadata": {
            "tags": []
          }
        }
      ]
    },
    {
      "cell_type": "markdown",
      "metadata": {
        "id": "nIuuHVXflelL"
      },
      "source": [
        "This quick access to documentation via docstrings is one reason you should get in the habit of always adding such inline documentation to the code you write!"
      ]
    },
    {
      "cell_type": "markdown",
      "metadata": {
        "id": "FEkArjPOlelM"
      },
      "source": [
        "## Accessing Source Code with ``??``\n",
        "Because the Python language is so easily readable, another level of insight can usually be gained by reading the source code of the object you're curious about.\n",
        "IPython provides a shortcut to the source code with the double question mark (``??``):"
      ]
    },
    {
      "cell_type": "code",
      "metadata": {
        "id": "uvi3EsxKlelN",
        "outputId": "0ea8c21a-c114-423c-9f8c-b4d2909a90b9"
      },
      "source": [
        "square??"
      ],
      "execution_count": null,
      "outputs": [
        {
          "output_type": "display_data",
          "data": {
            "text/plain": [
              "\u001b[0;31mSignature:\u001b[0m \u001b[0msquare\u001b[0m\u001b[0;34m(\u001b[0m\u001b[0ma\u001b[0m\u001b[0;34m)\u001b[0m\u001b[0;34m\u001b[0m\u001b[0;34m\u001b[0m\u001b[0m\n",
              "\u001b[0;31mSource:\u001b[0m   \n",
              "\u001b[0;32mdef\u001b[0m \u001b[0msquare\u001b[0m\u001b[0;34m(\u001b[0m\u001b[0ma\u001b[0m\u001b[0;34m)\u001b[0m\u001b[0;34m:\u001b[0m\u001b[0;34m\u001b[0m\n",
              "\u001b[0;34m\u001b[0m    \u001b[0;34m\"\"\"Return the square of a.\"\"\"\u001b[0m\u001b[0;34m\u001b[0m\n",
              "\u001b[0;34m\u001b[0m    \u001b[0;32mreturn\u001b[0m \u001b[0ma\u001b[0m \u001b[0;34m**\u001b[0m \u001b[0;36m2\u001b[0m\u001b[0;34m\u001b[0m\u001b[0;34m\u001b[0m\u001b[0m\n",
              "\u001b[0;31mFile:\u001b[0m      ~/Drive/projects/Business-Analytics/01-Python-Overview/<ipython-input-7-c96e82bfafc5>\n",
              "\u001b[0;31mType:\u001b[0m      function\n"
            ]
          },
          "metadata": {
            "tags": []
          }
        }
      ]
    },
    {
      "cell_type": "markdown",
      "metadata": {
        "id": "PEchZuaPlelP"
      },
      "source": [
        "For simple functions like this, the double question-mark can give quick insight into the under-the-hood details."
      ]
    },
    {
      "cell_type": "markdown",
      "metadata": {
        "id": "RCjgwFENlelQ"
      },
      "source": [
        "If you play with this much, you'll notice that sometimes the ``??`` suffix doesn't display any source code: this is generally because the object in question is not implemented in Python, but in C or some other compiled extension language.\n",
        "If this is the case, the ``??`` suffix gives the same output as the ``?`` suffix.\n",
        "You'll find this particularly with many of Python's built-in objects and types, for example ``len`` from above:"
      ]
    },
    {
      "cell_type": "code",
      "metadata": {
        "id": "MpWElY6-lelQ",
        "outputId": "3a4a3487-c63a-4ec5-a335-8e7061ba516d"
      },
      "source": [
        "len??"
      ],
      "execution_count": null,
      "outputs": [
        {
          "output_type": "display_data",
          "data": {
            "text/plain": [
              "\u001b[0;31mSignature:\u001b[0m \u001b[0mlen\u001b[0m\u001b[0;34m(\u001b[0m\u001b[0mobj\u001b[0m\u001b[0;34m,\u001b[0m \u001b[0;34m/\u001b[0m\u001b[0;34m)\u001b[0m\u001b[0;34m\u001b[0m\u001b[0;34m\u001b[0m\u001b[0m\n",
              "\u001b[0;31mDocstring:\u001b[0m Return the number of items in a container.\n",
              "\u001b[0;31mType:\u001b[0m      builtin_function_or_method\n"
            ]
          },
          "metadata": {
            "tags": []
          }
        }
      ]
    },
    {
      "cell_type": "markdown",
      "metadata": {
        "id": "x5F14FeSlelT"
      },
      "source": [
        "Using ``?`` and/or ``??`` gives a powerful and quick interface for finding information about what any Python function or module does."
      ]
    },
    {
      "cell_type": "markdown",
      "metadata": {
        "id": "2i5H4783lelU"
      },
      "source": [
        "## Exploring Modules with Tab-Completion\n",
        "\n",
        "IPython's other useful interface is the use of the tab key for auto-completion and exploration of the contents of objects, modules, and name-spaces.\n",
        "In the examples that follow, we'll use ``<TAB>`` to indicate when the Tab key should be pressed."
      ]
    },
    {
      "cell_type": "markdown",
      "metadata": {
        "id": "-9QI1lColelU"
      },
      "source": [
        "### Tab-completion of object contents\n",
        "\n",
        "Every Python object has various attributes and methods associated with it.\n",
        "Like with the ``help`` function discussed before, Python has a built-in ``dir`` function that returns a list of these, but the tab-completion interface is much easier to use in practice.\n",
        "To see a list of all available attributes of an object, you can type the name of the object followed by a period (\"``.``\") character and the Tab key:\n",
        "\n",
        "```ipython\n",
        "In [10]: L.<TAB>\n",
        "L.append   L.copy     L.extend   L.insert   L.remove   L.sort     \n",
        "L.clear    L.count    L.index    L.pop      L.reverse  \n",
        "```\n",
        "\n",
        "To narrow-down the list, you can type the first character or several characters of the name, and the Tab key will find the matching attributes and methods:\n",
        "\n",
        "```ipython\n",
        "In [10]: L.c<TAB>\n",
        "L.clear  L.copy   L.count  \n",
        "\n",
        "In [10]: L.co<TAB>\n",
        "L.copy   L.count \n",
        "```\n",
        "\n",
        "If there is only a single option, pressing the Tab key will complete the line for you.\n",
        "For example, the following will instantly be replaced with ``L.count``:\n",
        "\n",
        "```ipython\n",
        "In [10]: L.cou<TAB>\n",
        "\n",
        "```\n",
        "\n",
        "Though Python has no strictly-enforced distinction between public/external attributes and private/internal attributes, by convention a preceding underscore is used to denote such methods.\n",
        "For clarity, these private methods and special methods are omitted from the list by default, but it's possible to list them by explicitly typing the underscore:\n",
        "\n",
        "```ipython\n",
        "In [10]: L._<TAB>\n",
        "L.__add__           L.__gt__            L.__reduce__\n",
        "L.__class__         L.__hash__          L.__reduce_ex__\n",
        "```\n",
        "\n",
        "For brevity, we've only shown the first couple lines of the output.\n",
        "Most of these are Python's special double-underscore methods (often nicknamed \"dunder\" methods)."
      ]
    }
  ]
}